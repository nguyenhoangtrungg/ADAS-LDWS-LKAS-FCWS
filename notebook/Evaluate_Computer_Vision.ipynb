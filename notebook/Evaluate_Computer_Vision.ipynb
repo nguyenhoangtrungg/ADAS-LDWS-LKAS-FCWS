{
 "cells": [
  {
   "attachments": {},
   "cell_type": "markdown",
   "metadata": {},
   "source": [
    "# Đánh giá trên bộ dataset KITTI-Road/Lane Detection Evaluation 2013"
   ]
  },
  {
   "attachments": {},
   "cell_type": "markdown",
   "metadata": {},
   "source": [
    "## Xử lý ảnh"
   ]
  },
  {
   "cell_type": "code",
   "execution_count": 1,
   "metadata": {},
   "outputs": [
    {
     "ename": "",
     "evalue": "",
     "output_type": "error",
     "traceback": [
      "\u001b[1;31mThe Kernel crashed while executing code in the current cell or a previous cell. \n",
      "\u001b[1;31mPlease review the code in the cell(s) to identify a possible cause of the failure. \n",
      "\u001b[1;31mClick <a href='https://aka.ms/vscodeJupyterKernelCrash'>here</a> for more info. \n",
      "\u001b[1;31mView Jupyter <a href='command:jupyter.viewOutput'>log</a> for further details."
     ]
    }
   ],
   "source": [
    "import torch\n",
    "\n",
    "# Check if GPU is available\n",
    "if torch.cuda.is_available():\n",
    "    print(\"GPU is turned ON\")\n",
    "    device = torch.device(\"cuda\")\n",
    "else:\n",
    "    print(\"GPU is turned OFF\")\n",
    "    device = torch.device(\"cpu\")\n"
   ]
  },
  {
   "cell_type": "code",
   "execution_count": 7,
   "metadata": {},
   "outputs": [],
   "source": [
    "total_visible_lines_frames = 175\n",
    "detected_lines_frames = 147\n",
    "accuracy = 84\n",
    "false_detections = 9\n",
    "false_positive_rate = 6.12\n",
    "processing_speed = 314.75"
   ]
  },
  {
   "cell_type": "code",
   "execution_count": 16,
   "metadata": {},
   "outputs": [
    {
     "name": "stdout",
     "output_type": "stream",
     "text": [
      "['calib', 'image_2']\n"
     ]
    }
   ],
   "source": [
    "import os\n",
    "dataset_path = \"static/data_road/testing\"\n",
    "print(os.listdir(dataset_path))"
   ]
  },
  {
   "cell_type": "code",
   "execution_count": null,
   "metadata": {},
   "outputs": [],
   "source": [
    "import numpy as np\n",
    "from FindLaneLines import *\n",
    "\n",
    "# Example usage\n",
    "dataset_path = \"D:/DESKTOP/data_road/testing\"\n",
    "\n",
    "lane_detector = FindLaneLines()\n",
    "\n",
    "precision, recall, f1 = lane_detector.evaluate(dataset_path)\n",
    "print(\"Precision:\", precision)\n",
    "print(\"Recall:\", recall)\n",
    "print(\"F1-score:\", f1)\n",
    "# print(\"Lane detection rate:\", lane_detection_rate)"
   ]
  },
  {
   "cell_type": "code",
   "execution_count": 8,
   "metadata": {},
   "outputs": [
    {
     "name": "stdout",
     "output_type": "stream",
     "text": [
      "                                     Metric   Value\n",
      "0  Total number of all visible lines frames  175.00\n",
      "1           Number of detected lines frames  147.00\n",
      "2                              Accuracy (%)   84.00\n",
      "3                Number of false detections    9.00\n",
      "4                   False positive rate (%)    6.12\n",
      "5               Processing Speed (avg. f/s)  314.75\n"
     ]
    }
   ],
   "source": [
    "import pandas as pd\n",
    "# Tạo DataFrame\n",
    "data = {\n",
    "    'Metric': ['Total number of all visible lines frames', 'Number of detected lines frames',\n",
    "               'Accuracy (%)', 'Number of false detections', 'False positive rate (%)',\n",
    "               'Processing Speed (avg. f/s)'],\n",
    "    'Value': [total_visible_lines_frames, detected_lines_frames, accuracy,\n",
    "              false_detections, false_positive_rate, processing_speed]\n",
    "}\n",
    "\n",
    "df = pd.DataFrame(data)\n",
    "\n",
    "# In ra bảng\n",
    "print(df)\n"
   ]
  },
  {
   "attachments": {},
   "cell_type": "markdown",
   "metadata": {},
   "source": [
    "## Deep Learning"
   ]
  }
 ],
 "metadata": {
  "kernelspec": {
   "display_name": ".venv",
   "language": "python",
   "name": "python3"
  },
  "language_info": {
   "codemirror_mode": {
    "name": "ipython",
    "version": 3
   },
   "file_extension": ".py",
   "mimetype": "text/x-python",
   "name": "python",
   "nbconvert_exporter": "python",
   "pygments_lexer": "ipython3",
   "version": "3.12.3"
  },
  "orig_nbformat": 4
 },
 "nbformat": 4,
 "nbformat_minor": 2
}
