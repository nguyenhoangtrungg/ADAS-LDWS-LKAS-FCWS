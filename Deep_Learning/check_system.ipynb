{
 "cells": [
  {
   "cell_type": "code",
   "execution_count": 1,
   "metadata": {},
   "outputs": [
    {
     "name": "stdout",
     "output_type": "stream",
     "text": [
      "True\n",
      "1\n",
      "NVIDIA GeForce RTX 3070 Laptop GPU\n"
     ]
    }
   ],
   "source": [
    "import torch\n",
    "print(torch.cuda.is_available())  # Returns True if GPU is available\n",
    "print(torch.cuda.device_count())  # Prints the number of GPUs available\n",
    "print(torch.cuda.get_device_name(0))  # Prints the name of GPU (if available)"
   ]
  },
  {
   "cell_type": "code",
   "execution_count": 1,
   "metadata": {},
   "outputs": [
    {
     "name": "stdout",
     "output_type": "stream",
     "text": [
      "Các thành phần trong TrafficLaneDetector:\n",
      "exportLib\n",
      "ufldDetector\n",
      "ultrafastLaneDetector\n",
      "ultrafastLaneDetectorV2\n",
      "\n",
      "Chi tiết về các thành phần:\n",
      "exportLib: Module\n",
      "ufldDetector: Module\n",
      "ultrafastLaneDetector: Module\n",
      "ultrafastLaneDetectorV2: Module\n"
     ]
    }
   ],
   "source": [
    "import TrafficLaneDetector\n",
    "\n",
    "# In ra tất cả các thành phần được định nghĩa trong module\n",
    "print(\"Các thành phần trong TrafficLaneDetector:\")\n",
    "for name in dir(TrafficLaneDetector):\n",
    "    if not name.startswith(\"__\"):  # Bỏ qua các thuộc tính đặc biệt của Python\n",
    "        print(name)\n",
    "\n",
    "# Nếu muốn biết thêm chi tiết về mỗi thành phần\n",
    "import inspect\n",
    "\n",
    "print(\"\\nChi tiết về các thành phần:\")\n",
    "for name in dir(TrafficLaneDetector):\n",
    "    if not name.startswith(\"__\"):\n",
    "        obj = getattr(TrafficLaneDetector, name)\n",
    "        if inspect.isclass(obj):\n",
    "            print(f\"{name}: Class\")\n",
    "        elif inspect.isfunction(obj):\n",
    "            print(f\"{name}: Function\")\n",
    "        elif inspect.ismodule(obj):\n",
    "            print(f\"{name}: Module\")\n",
    "        else:\n",
    "            print(f\"{name}: Other (type: {type(obj)})\")"
   ]
  }
 ],
 "metadata": {
  "kernelspec": {
   "display_name": "main_py312",
   "language": "python",
   "name": "python3"
  },
  "language_info": {
   "codemirror_mode": {
    "name": "ipython",
    "version": 3
   },
   "file_extension": ".py",
   "mimetype": "text/x-python",
   "name": "python",
   "nbconvert_exporter": "python",
   "pygments_lexer": "ipython3",
   "version": "3.12.3"
  }
 },
 "nbformat": 4,
 "nbformat_minor": 2
}
